{
 "cells": [
  {
   "cell_type": "code",
   "execution_count": 1,
   "metadata": {},
   "outputs": [
    {
     "name": "stderr",
     "output_type": "stream",
     "text": [
      "C:\\Anaconda3\\lib\\site-packages\\sklearn\\externals\\six.py:31: DeprecationWarning: The module is deprecated in version 0.21 and will be removed in version 0.23 since we've dropped support for Python 2.7. Please rely on the official version of six (https://pypi.org/project/six/).\n",
      "  \"(https://pypi.org/project/six/).\", DeprecationWarning)\n"
     ]
    }
   ],
   "source": [
    "import matplotlib.pyplot as plt\n",
    "import string\n",
    "from pandas import read_csv\n",
    "import math\n",
    "import seaborn as sns\n",
    "import pandas as pd\n",
    "import numpy as np\n",
    "from sklearn import preprocessing\n",
    "from sklearn.ensemble import RandomForestRegressor\n",
    "from sklearn.preprocessing import StandardScaler \n",
    "from sklearn.model_selection import train_test_split, GridSearchCV\n",
    "from sklearn.tree import DecisionTreeClassifier\n",
    "from sklearn.metrics import confusion_matrix\n",
    "from sklearn.metrics import accuracy_score\n",
    "from sklearn import svm\n",
    "from sklearn.metrics import roc_curve, auc\n",
    "import matplotlib.pyplot as plt\n",
    "from sklearn.externals.six import StringIO  \n",
    "from IPython.display import Image  \n",
    "from sklearn.tree import export_graphviz\n",
    "import seaborn as sns\n",
    "import matplotlib.pyplot as plt\n",
    "import time\n",
    "from sklearn import preprocessing\n",
    "from sklearn import metrics"
   ]
  },
  {
   "cell_type": "code",
   "execution_count": 2,
   "metadata": {},
   "outputs": [],
   "source": [
    "godseye=read_csv(\"nikhila.csv\")"
   ]
  },
  {
   "cell_type": "code",
   "execution_count": 3,
   "metadata": {},
   "outputs": [
    {
     "data": {
      "text/plain": [
       "pandas.core.frame.DataFrame"
      ]
     },
     "execution_count": 3,
     "metadata": {},
     "output_type": "execute_result"
    }
   ],
   "source": [
    "type(godseye)"
   ]
  },
  {
   "cell_type": "code",
   "execution_count": 4,
   "metadata": {},
   "outputs": [
    {
     "data": {
      "text/plain": [
       "T             int64\n",
       "LX          float64\n",
       "LY          float64\n",
       "RX          float64\n",
       "RY          float64\n",
       "name         object\n",
       "gender       object\n",
       "dyslexia     object\n",
       "dtype: object"
      ]
     },
     "execution_count": 4,
     "metadata": {},
     "output_type": "execute_result"
    }
   ],
   "source": [
    "godseye.dtypes"
   ]
  },
  {
   "cell_type": "code",
   "execution_count": 5,
   "metadata": {},
   "outputs": [],
   "source": [
    "godseye=godseye.drop([0,1],axis='rows')"
   ]
  },
  {
   "cell_type": "code",
   "execution_count": 6,
   "metadata": {},
   "outputs": [],
   "source": [
    "godseye['ll']=np.sqrt(((godseye['LX'])**2+((godseye['LY'])**2)))\n",
    "godseye['rr']=np.sqrt(((godseye['RX'])**2+((godseye['RY'])**2)))\n",
    "#godseye['lm']=np.round(godseye['LY']/godseye['LX'])\n",
    "#godseye['rm']=np.round(godseye['RY']/godseye['RX'])"
   ]
  },
  {
   "cell_type": "code",
   "execution_count": 7,
   "metadata": {},
   "outputs": [
    {
     "data": {
      "text/html": [
       "<div>\n",
       "<style scoped>\n",
       "    .dataframe tbody tr th:only-of-type {\n",
       "        vertical-align: middle;\n",
       "    }\n",
       "\n",
       "    .dataframe tbody tr th {\n",
       "        vertical-align: top;\n",
       "    }\n",
       "\n",
       "    .dataframe thead th {\n",
       "        text-align: right;\n",
       "    }\n",
       "</style>\n",
       "<table border=\"1\" class=\"dataframe\">\n",
       "  <thead>\n",
       "    <tr style=\"text-align: right;\">\n",
       "      <th></th>\n",
       "      <th>T</th>\n",
       "      <th>LX</th>\n",
       "      <th>LY</th>\n",
       "      <th>RX</th>\n",
       "      <th>RY</th>\n",
       "      <th>name</th>\n",
       "      <th>gender</th>\n",
       "      <th>dyslexia</th>\n",
       "      <th>ll</th>\n",
       "      <th>rr</th>\n",
       "    </tr>\n",
       "  </thead>\n",
       "  <tbody>\n",
       "    <tr>\n",
       "      <td>2</td>\n",
       "      <td>40</td>\n",
       "      <td>-65536.0</td>\n",
       "      <td>0.0</td>\n",
       "      <td>-65536.00</td>\n",
       "      <td>0.000000e+00</td>\n",
       "      <td>752pj3</td>\n",
       "      <td>male</td>\n",
       "      <td>no</td>\n",
       "      <td>6.553600e+04</td>\n",
       "      <td>6.553600e+04</td>\n",
       "    </tr>\n",
       "    <tr>\n",
       "      <td>3</td>\n",
       "      <td>60</td>\n",
       "      <td>-65536.0</td>\n",
       "      <td>-65536.0</td>\n",
       "      <td>-99999999.96</td>\n",
       "      <td>0.000000e+00</td>\n",
       "      <td>752pj3</td>\n",
       "      <td>male</td>\n",
       "      <td>no</td>\n",
       "      <td>9.268190e+04</td>\n",
       "      <td>1.000000e+08</td>\n",
       "    </tr>\n",
       "    <tr>\n",
       "      <td>4</td>\n",
       "      <td>80</td>\n",
       "      <td>-65537.0</td>\n",
       "      <td>-65536.0</td>\n",
       "      <td>-65537.00</td>\n",
       "      <td>-6.550000e+13</td>\n",
       "      <td>752pj3</td>\n",
       "      <td>male</td>\n",
       "      <td>no</td>\n",
       "      <td>9.268261e+04</td>\n",
       "      <td>6.550000e+13</td>\n",
       "    </tr>\n",
       "    <tr>\n",
       "      <td>5</td>\n",
       "      <td>100</td>\n",
       "      <td>-65536.0</td>\n",
       "      <td>-65536.0</td>\n",
       "      <td>-65538.00</td>\n",
       "      <td>0.000000e+00</td>\n",
       "      <td>752pj3</td>\n",
       "      <td>male</td>\n",
       "      <td>no</td>\n",
       "      <td>9.268190e+04</td>\n",
       "      <td>6.553800e+04</td>\n",
       "    </tr>\n",
       "    <tr>\n",
       "      <td>6</td>\n",
       "      <td>120</td>\n",
       "      <td>-131073.0</td>\n",
       "      <td>-65536.0</td>\n",
       "      <td>-131074.00</td>\n",
       "      <td>1.000000e+08</td>\n",
       "      <td>752pj3</td>\n",
       "      <td>male</td>\n",
       "      <td>no</td>\n",
       "      <td>1.465438e+05</td>\n",
       "      <td>1.000001e+08</td>\n",
       "    </tr>\n",
       "    <tr>\n",
       "      <td>...</td>\n",
       "      <td>...</td>\n",
       "      <td>...</td>\n",
       "      <td>...</td>\n",
       "      <td>...</td>\n",
       "      <td>...</td>\n",
       "      <td>...</td>\n",
       "      <td>...</td>\n",
       "      <td>...</td>\n",
       "      <td>...</td>\n",
       "      <td>...</td>\n",
       "    </tr>\n",
       "    <tr>\n",
       "      <td>40495</td>\n",
       "      <td>29900</td>\n",
       "      <td>-425992.0</td>\n",
       "      <td>2752538.0</td>\n",
       "      <td>-425992.00</td>\n",
       "      <td>2.621463e+06</td>\n",
       "      <td>782sc3</td>\n",
       "      <td>male</td>\n",
       "      <td>no</td>\n",
       "      <td>2.785307e+06</td>\n",
       "      <td>2.655850e+06</td>\n",
       "    </tr>\n",
       "    <tr>\n",
       "      <td>40496</td>\n",
       "      <td>29920</td>\n",
       "      <td>-425992.0</td>\n",
       "      <td>2818073.0</td>\n",
       "      <td>-425992.00</td>\n",
       "      <td>2.752537e+06</td>\n",
       "      <td>782sc3</td>\n",
       "      <td>male</td>\n",
       "      <td>no</td>\n",
       "      <td>2.850089e+06</td>\n",
       "      <td>2.785306e+06</td>\n",
       "    </tr>\n",
       "    <tr>\n",
       "      <td>40497</td>\n",
       "      <td>29940</td>\n",
       "      <td>-425992.0</td>\n",
       "      <td>2555926.0</td>\n",
       "      <td>-425992.00</td>\n",
       "      <td>2.424853e+06</td>\n",
       "      <td>782sc3</td>\n",
       "      <td>male</td>\n",
       "      <td>no</td>\n",
       "      <td>2.591183e+06</td>\n",
       "      <td>2.461987e+06</td>\n",
       "    </tr>\n",
       "    <tr>\n",
       "      <td>40498</td>\n",
       "      <td>29960</td>\n",
       "      <td>-425992.0</td>\n",
       "      <td>2359315.0</td>\n",
       "      <td>-425992.00</td>\n",
       "      <td>2.359314e+06</td>\n",
       "      <td>782sc3</td>\n",
       "      <td>male</td>\n",
       "      <td>no</td>\n",
       "      <td>2.397465e+06</td>\n",
       "      <td>2.397464e+06</td>\n",
       "    </tr>\n",
       "    <tr>\n",
       "      <td>40499</td>\n",
       "      <td>29980</td>\n",
       "      <td>-425992.0</td>\n",
       "      <td>2359314.0</td>\n",
       "      <td>-425992.00</td>\n",
       "      <td>2.359313e+06</td>\n",
       "      <td>782sc3</td>\n",
       "      <td>male</td>\n",
       "      <td>no</td>\n",
       "      <td>2.397464e+06</td>\n",
       "      <td>2.397463e+06</td>\n",
       "    </tr>\n",
       "  </tbody>\n",
       "</table>\n",
       "<p>40498 rows × 10 columns</p>\n",
       "</div>"
      ],
      "text/plain": [
       "           T        LX         LY           RX            RY    name gender  \\\n",
       "2         40  -65536.0        0.0    -65536.00  0.000000e+00  752pj3   male   \n",
       "3         60  -65536.0   -65536.0 -99999999.96  0.000000e+00  752pj3   male   \n",
       "4         80  -65537.0   -65536.0    -65537.00 -6.550000e+13  752pj3   male   \n",
       "5        100  -65536.0   -65536.0    -65538.00  0.000000e+00  752pj3   male   \n",
       "6        120 -131073.0   -65536.0   -131074.00  1.000000e+08  752pj3   male   \n",
       "...      ...       ...        ...          ...           ...     ...    ...   \n",
       "40495  29900 -425992.0  2752538.0   -425992.00  2.621463e+06  782sc3   male   \n",
       "40496  29920 -425992.0  2818073.0   -425992.00  2.752537e+06  782sc3   male   \n",
       "40497  29940 -425992.0  2555926.0   -425992.00  2.424853e+06  782sc3   male   \n",
       "40498  29960 -425992.0  2359315.0   -425992.00  2.359314e+06  782sc3   male   \n",
       "40499  29980 -425992.0  2359314.0   -425992.00  2.359313e+06  782sc3   male   \n",
       "\n",
       "      dyslexia            ll            rr  \n",
       "2           no  6.553600e+04  6.553600e+04  \n",
       "3           no  9.268190e+04  1.000000e+08  \n",
       "4           no  9.268261e+04  6.550000e+13  \n",
       "5           no  9.268190e+04  6.553800e+04  \n",
       "6           no  1.465438e+05  1.000001e+08  \n",
       "...        ...           ...           ...  \n",
       "40495       no  2.785307e+06  2.655850e+06  \n",
       "40496       no  2.850089e+06  2.785306e+06  \n",
       "40497       no  2.591183e+06  2.461987e+06  \n",
       "40498       no  2.397465e+06  2.397464e+06  \n",
       "40499       no  2.397464e+06  2.397463e+06  \n",
       "\n",
       "[40498 rows x 10 columns]"
      ]
     },
     "execution_count": 7,
     "metadata": {},
     "output_type": "execute_result"
    }
   ],
   "source": [
    "godseye"
   ]
  },
  {
   "cell_type": "code",
   "execution_count": 8,
   "metadata": {},
   "outputs": [],
   "source": [
    "godseye=godseye.drop(['LX','LY','RX','RY','name'],axis='columns')"
   ]
  },
  {
   "cell_type": "code",
   "execution_count": 9,
   "metadata": {},
   "outputs": [
    {
     "data": {
      "text/html": [
       "<div>\n",
       "<style scoped>\n",
       "    .dataframe tbody tr th:only-of-type {\n",
       "        vertical-align: middle;\n",
       "    }\n",
       "\n",
       "    .dataframe tbody tr th {\n",
       "        vertical-align: top;\n",
       "    }\n",
       "\n",
       "    .dataframe thead th {\n",
       "        text-align: right;\n",
       "    }\n",
       "</style>\n",
       "<table border=\"1\" class=\"dataframe\">\n",
       "  <thead>\n",
       "    <tr style=\"text-align: right;\">\n",
       "      <th></th>\n",
       "      <th>T</th>\n",
       "      <th>ll</th>\n",
       "      <th>rr</th>\n",
       "    </tr>\n",
       "  </thead>\n",
       "  <tbody>\n",
       "    <tr>\n",
       "      <td>count</td>\n",
       "      <td>40498.000000</td>\n",
       "      <td>4.049800e+04</td>\n",
       "      <td>4.049800e+04</td>\n",
       "    </tr>\n",
       "    <tr>\n",
       "      <td>mean</td>\n",
       "      <td>17552.594696</td>\n",
       "      <td>4.171420e+11</td>\n",
       "      <td>4.148180e+11</td>\n",
       "    </tr>\n",
       "    <tr>\n",
       "      <td>std</td>\n",
       "      <td>10768.554770</td>\n",
       "      <td>4.668895e+12</td>\n",
       "      <td>4.749779e+12</td>\n",
       "    </tr>\n",
       "    <tr>\n",
       "      <td>min</td>\n",
       "      <td>0.000000</td>\n",
       "      <td>0.000000e+00</td>\n",
       "      <td>0.000000e+00</td>\n",
       "    </tr>\n",
       "    <tr>\n",
       "      <td>25%</td>\n",
       "      <td>8420.000000</td>\n",
       "      <td>2.694187e+06</td>\n",
       "      <td>2.688833e+06</td>\n",
       "    </tr>\n",
       "    <tr>\n",
       "      <td>50%</td>\n",
       "      <td>16860.000000</td>\n",
       "      <td>5.732113e+06</td>\n",
       "      <td>5.737800e+06</td>\n",
       "    </tr>\n",
       "    <tr>\n",
       "      <td>75%</td>\n",
       "      <td>25860.000000</td>\n",
       "      <td>9.968615e+06</td>\n",
       "      <td>9.965040e+06</td>\n",
       "    </tr>\n",
       "    <tr>\n",
       "      <td>max</td>\n",
       "      <td>39980.000000</td>\n",
       "      <td>9.800000e+13</td>\n",
       "      <td>1.057940e+14</td>\n",
       "    </tr>\n",
       "  </tbody>\n",
       "</table>\n",
       "</div>"
      ],
      "text/plain": [
       "                  T            ll            rr\n",
       "count  40498.000000  4.049800e+04  4.049800e+04\n",
       "mean   17552.594696  4.171420e+11  4.148180e+11\n",
       "std    10768.554770  4.668895e+12  4.749779e+12\n",
       "min        0.000000  0.000000e+00  0.000000e+00\n",
       "25%     8420.000000  2.694187e+06  2.688833e+06\n",
       "50%    16860.000000  5.732113e+06  5.737800e+06\n",
       "75%    25860.000000  9.968615e+06  9.965040e+06\n",
       "max    39980.000000  9.800000e+13  1.057940e+14"
      ]
     },
     "execution_count": 9,
     "metadata": {},
     "output_type": "execute_result"
    }
   ],
   "source": [
    "godseye.describe()"
   ]
  },
  {
   "cell_type": "code",
   "execution_count": 10,
   "metadata": {},
   "outputs": [],
   "source": [
    "#godseye=godseye.query('ll < 10**11 and ll > 0')\n",
    "#godseye=godseye.query('rr < 10**11 and rr > 0')"
   ]
  },
  {
   "cell_type": "code",
   "execution_count": 11,
   "metadata": {},
   "outputs": [
    {
     "data": {
      "text/html": [
       "<div>\n",
       "<style scoped>\n",
       "    .dataframe tbody tr th:only-of-type {\n",
       "        vertical-align: middle;\n",
       "    }\n",
       "\n",
       "    .dataframe tbody tr th {\n",
       "        vertical-align: top;\n",
       "    }\n",
       "\n",
       "    .dataframe thead th {\n",
       "        text-align: right;\n",
       "    }\n",
       "</style>\n",
       "<table border=\"1\" class=\"dataframe\">\n",
       "  <thead>\n",
       "    <tr style=\"text-align: right;\">\n",
       "      <th></th>\n",
       "      <th>T</th>\n",
       "      <th>ll</th>\n",
       "      <th>rr</th>\n",
       "    </tr>\n",
       "  </thead>\n",
       "  <tbody>\n",
       "    <tr>\n",
       "      <td>count</td>\n",
       "      <td>40498.000000</td>\n",
       "      <td>4.049800e+04</td>\n",
       "      <td>4.049800e+04</td>\n",
       "    </tr>\n",
       "    <tr>\n",
       "      <td>mean</td>\n",
       "      <td>17552.594696</td>\n",
       "      <td>4.171420e+11</td>\n",
       "      <td>4.148180e+11</td>\n",
       "    </tr>\n",
       "    <tr>\n",
       "      <td>std</td>\n",
       "      <td>10768.554770</td>\n",
       "      <td>4.668895e+12</td>\n",
       "      <td>4.749779e+12</td>\n",
       "    </tr>\n",
       "    <tr>\n",
       "      <td>min</td>\n",
       "      <td>0.000000</td>\n",
       "      <td>0.000000e+00</td>\n",
       "      <td>0.000000e+00</td>\n",
       "    </tr>\n",
       "    <tr>\n",
       "      <td>25%</td>\n",
       "      <td>8420.000000</td>\n",
       "      <td>2.694187e+06</td>\n",
       "      <td>2.688833e+06</td>\n",
       "    </tr>\n",
       "    <tr>\n",
       "      <td>50%</td>\n",
       "      <td>16860.000000</td>\n",
       "      <td>5.732113e+06</td>\n",
       "      <td>5.737800e+06</td>\n",
       "    </tr>\n",
       "    <tr>\n",
       "      <td>75%</td>\n",
       "      <td>25860.000000</td>\n",
       "      <td>9.968615e+06</td>\n",
       "      <td>9.965040e+06</td>\n",
       "    </tr>\n",
       "    <tr>\n",
       "      <td>max</td>\n",
       "      <td>39980.000000</td>\n",
       "      <td>9.800000e+13</td>\n",
       "      <td>1.057940e+14</td>\n",
       "    </tr>\n",
       "  </tbody>\n",
       "</table>\n",
       "</div>"
      ],
      "text/plain": [
       "                  T            ll            rr\n",
       "count  40498.000000  4.049800e+04  4.049800e+04\n",
       "mean   17552.594696  4.171420e+11  4.148180e+11\n",
       "std    10768.554770  4.668895e+12  4.749779e+12\n",
       "min        0.000000  0.000000e+00  0.000000e+00\n",
       "25%     8420.000000  2.694187e+06  2.688833e+06\n",
       "50%    16860.000000  5.732113e+06  5.737800e+06\n",
       "75%    25860.000000  9.968615e+06  9.965040e+06\n",
       "max    39980.000000  9.800000e+13  1.057940e+14"
      ]
     },
     "execution_count": 11,
     "metadata": {},
     "output_type": "execute_result"
    }
   ],
   "source": [
    "godseye.describe()"
   ]
  },
  {
   "cell_type": "code",
   "execution_count": 12,
   "metadata": {
    "scrolled": true
   },
   "outputs": [
    {
     "data": {
      "text/html": [
       "<div>\n",
       "<style scoped>\n",
       "    .dataframe tbody tr th:only-of-type {\n",
       "        vertical-align: middle;\n",
       "    }\n",
       "\n",
       "    .dataframe tbody tr th {\n",
       "        vertical-align: top;\n",
       "    }\n",
       "\n",
       "    .dataframe thead th {\n",
       "        text-align: right;\n",
       "    }\n",
       "</style>\n",
       "<table border=\"1\" class=\"dataframe\">\n",
       "  <thead>\n",
       "    <tr style=\"text-align: right;\">\n",
       "      <th></th>\n",
       "      <th>T</th>\n",
       "      <th>gender</th>\n",
       "      <th>dyslexia</th>\n",
       "      <th>ll</th>\n",
       "      <th>rr</th>\n",
       "    </tr>\n",
       "  </thead>\n",
       "  <tbody>\n",
       "    <tr>\n",
       "      <td>2</td>\n",
       "      <td>40</td>\n",
       "      <td>male</td>\n",
       "      <td>no</td>\n",
       "      <td>6.553600e+04</td>\n",
       "      <td>6.553600e+04</td>\n",
       "    </tr>\n",
       "    <tr>\n",
       "      <td>3</td>\n",
       "      <td>60</td>\n",
       "      <td>male</td>\n",
       "      <td>no</td>\n",
       "      <td>9.268190e+04</td>\n",
       "      <td>1.000000e+08</td>\n",
       "    </tr>\n",
       "    <tr>\n",
       "      <td>4</td>\n",
       "      <td>80</td>\n",
       "      <td>male</td>\n",
       "      <td>no</td>\n",
       "      <td>9.268261e+04</td>\n",
       "      <td>6.550000e+13</td>\n",
       "    </tr>\n",
       "    <tr>\n",
       "      <td>5</td>\n",
       "      <td>100</td>\n",
       "      <td>male</td>\n",
       "      <td>no</td>\n",
       "      <td>9.268190e+04</td>\n",
       "      <td>6.553800e+04</td>\n",
       "    </tr>\n",
       "    <tr>\n",
       "      <td>6</td>\n",
       "      <td>120</td>\n",
       "      <td>male</td>\n",
       "      <td>no</td>\n",
       "      <td>1.465438e+05</td>\n",
       "      <td>1.000001e+08</td>\n",
       "    </tr>\n",
       "    <tr>\n",
       "      <td>...</td>\n",
       "      <td>...</td>\n",
       "      <td>...</td>\n",
       "      <td>...</td>\n",
       "      <td>...</td>\n",
       "      <td>...</td>\n",
       "    </tr>\n",
       "    <tr>\n",
       "      <td>40495</td>\n",
       "      <td>29900</td>\n",
       "      <td>male</td>\n",
       "      <td>no</td>\n",
       "      <td>2.785307e+06</td>\n",
       "      <td>2.655850e+06</td>\n",
       "    </tr>\n",
       "    <tr>\n",
       "      <td>40496</td>\n",
       "      <td>29920</td>\n",
       "      <td>male</td>\n",
       "      <td>no</td>\n",
       "      <td>2.850089e+06</td>\n",
       "      <td>2.785306e+06</td>\n",
       "    </tr>\n",
       "    <tr>\n",
       "      <td>40497</td>\n",
       "      <td>29940</td>\n",
       "      <td>male</td>\n",
       "      <td>no</td>\n",
       "      <td>2.591183e+06</td>\n",
       "      <td>2.461987e+06</td>\n",
       "    </tr>\n",
       "    <tr>\n",
       "      <td>40498</td>\n",
       "      <td>29960</td>\n",
       "      <td>male</td>\n",
       "      <td>no</td>\n",
       "      <td>2.397465e+06</td>\n",
       "      <td>2.397464e+06</td>\n",
       "    </tr>\n",
       "    <tr>\n",
       "      <td>40499</td>\n",
       "      <td>29980</td>\n",
       "      <td>male</td>\n",
       "      <td>no</td>\n",
       "      <td>2.397464e+06</td>\n",
       "      <td>2.397463e+06</td>\n",
       "    </tr>\n",
       "  </tbody>\n",
       "</table>\n",
       "<p>40498 rows × 5 columns</p>\n",
       "</div>"
      ],
      "text/plain": [
       "           T gender dyslexia            ll            rr\n",
       "2         40   male       no  6.553600e+04  6.553600e+04\n",
       "3         60   male       no  9.268190e+04  1.000000e+08\n",
       "4         80   male       no  9.268261e+04  6.550000e+13\n",
       "5        100   male       no  9.268190e+04  6.553800e+04\n",
       "6        120   male       no  1.465438e+05  1.000001e+08\n",
       "...      ...    ...      ...           ...           ...\n",
       "40495  29900   male       no  2.785307e+06  2.655850e+06\n",
       "40496  29920   male       no  2.850089e+06  2.785306e+06\n",
       "40497  29940   male       no  2.591183e+06  2.461987e+06\n",
       "40498  29960   male       no  2.397465e+06  2.397464e+06\n",
       "40499  29980   male       no  2.397464e+06  2.397463e+06\n",
       "\n",
       "[40498 rows x 5 columns]"
      ]
     },
     "execution_count": 12,
     "metadata": {},
     "output_type": "execute_result"
    }
   ],
   "source": [
    "godseye"
   ]
  },
  {
   "cell_type": "code",
   "execution_count": 13,
   "metadata": {},
   "outputs": [
    {
     "data": {
      "text/html": [
       "<div>\n",
       "<style scoped>\n",
       "    .dataframe tbody tr th:only-of-type {\n",
       "        vertical-align: middle;\n",
       "    }\n",
       "\n",
       "    .dataframe tbody tr th {\n",
       "        vertical-align: top;\n",
       "    }\n",
       "\n",
       "    .dataframe thead th {\n",
       "        text-align: right;\n",
       "    }\n",
       "</style>\n",
       "<table border=\"1\" class=\"dataframe\">\n",
       "  <thead>\n",
       "    <tr style=\"text-align: right;\">\n",
       "      <th></th>\n",
       "      <th>T</th>\n",
       "      <th>ll</th>\n",
       "      <th>rr</th>\n",
       "    </tr>\n",
       "  </thead>\n",
       "  <tbody>\n",
       "    <tr>\n",
       "      <td>count</td>\n",
       "      <td>40498.000000</td>\n",
       "      <td>4.049800e+04</td>\n",
       "      <td>4.049800e+04</td>\n",
       "    </tr>\n",
       "    <tr>\n",
       "      <td>mean</td>\n",
       "      <td>17552.594696</td>\n",
       "      <td>4.171420e+11</td>\n",
       "      <td>4.148180e+11</td>\n",
       "    </tr>\n",
       "    <tr>\n",
       "      <td>std</td>\n",
       "      <td>10768.554770</td>\n",
       "      <td>4.668895e+12</td>\n",
       "      <td>4.749779e+12</td>\n",
       "    </tr>\n",
       "    <tr>\n",
       "      <td>min</td>\n",
       "      <td>0.000000</td>\n",
       "      <td>0.000000e+00</td>\n",
       "      <td>0.000000e+00</td>\n",
       "    </tr>\n",
       "    <tr>\n",
       "      <td>25%</td>\n",
       "      <td>8420.000000</td>\n",
       "      <td>2.694187e+06</td>\n",
       "      <td>2.688833e+06</td>\n",
       "    </tr>\n",
       "    <tr>\n",
       "      <td>50%</td>\n",
       "      <td>16860.000000</td>\n",
       "      <td>5.732113e+06</td>\n",
       "      <td>5.737800e+06</td>\n",
       "    </tr>\n",
       "    <tr>\n",
       "      <td>75%</td>\n",
       "      <td>25860.000000</td>\n",
       "      <td>9.968615e+06</td>\n",
       "      <td>9.965040e+06</td>\n",
       "    </tr>\n",
       "    <tr>\n",
       "      <td>max</td>\n",
       "      <td>39980.000000</td>\n",
       "      <td>9.800000e+13</td>\n",
       "      <td>1.057940e+14</td>\n",
       "    </tr>\n",
       "  </tbody>\n",
       "</table>\n",
       "</div>"
      ],
      "text/plain": [
       "                  T            ll            rr\n",
       "count  40498.000000  4.049800e+04  4.049800e+04\n",
       "mean   17552.594696  4.171420e+11  4.148180e+11\n",
       "std    10768.554770  4.668895e+12  4.749779e+12\n",
       "min        0.000000  0.000000e+00  0.000000e+00\n",
       "25%     8420.000000  2.694187e+06  2.688833e+06\n",
       "50%    16860.000000  5.732113e+06  5.737800e+06\n",
       "75%    25860.000000  9.968615e+06  9.965040e+06\n",
       "max    39980.000000  9.800000e+13  1.057940e+14"
      ]
     },
     "execution_count": 13,
     "metadata": {},
     "output_type": "execute_result"
    }
   ],
   "source": [
    "godseye.describe()"
   ]
  },
  {
   "cell_type": "code",
   "execution_count": 14,
   "metadata": {},
   "outputs": [
    {
     "name": "stdout",
     "output_type": "stream",
     "text": [
      "<class 'pandas.core.frame.DataFrame'>\n",
      "Int64Index: 40498 entries, 2 to 40499\n",
      "Data columns (total 5 columns):\n",
      "T           40498 non-null int64\n",
      "gender      40498 non-null object\n",
      "dyslexia    40498 non-null object\n",
      "ll          40498 non-null float64\n",
      "rr          40498 non-null float64\n",
      "dtypes: float64(2), int64(1), object(2)\n",
      "memory usage: 1.9+ MB\n"
     ]
    }
   ],
   "source": [
    "#godseye=godseye.head()\n",
    "#godseye=godseye[['T','ll','rr']]\n",
    "godseye.info()"
   ]
  },
  {
   "cell_type": "code",
   "execution_count": 15,
   "metadata": {
    "scrolled": true
   },
   "outputs": [
    {
     "data": {
      "text/plain": [
       "<matplotlib.axes._subplots.AxesSubplot at 0x1f3843b2788>"
      ]
     },
     "execution_count": 15,
     "metadata": {},
     "output_type": "execute_result"
    },
    {
     "data": {
      "image/png": "[encoded data removed]",
      "text/plain": [
       "<Figure size 432x288 with 1 Axes>"
      ]
     },
     "metadata": {
      "needs_background": "light"
     },
     "output_type": "display_data"
    }
   ],
   "source": [
    "#plt.plot(godseye['T'],godseye['ll'])\n",
    "sns.boxplot(x=godseye['ll'])"
   ]
  },
  {
   "cell_type": "code",
   "execution_count": 16,
   "metadata": {},
   "outputs": [
    {
     "data": {
      "text/plain": [
       "<matplotlib.axes._subplots.AxesSubplot at 0x1f3841e9648>"
      ]
     },
     "execution_count": 16,
     "metadata": {},
     "output_type": "execute_result"
    },
    {
     "data": {
      "image/png": "[encoded data removed]",
      "text/plain": [
       "<Figure size 432x288 with 1 Axes>"
      ]
     },
     "metadata": {
      "needs_background": "light"
     },
     "output_type": "display_data"
    }
   ],
   "source": [
    "sns.distplot(godseye['ll'])"
   ]
  },
  {
   "cell_type": "code",
   "execution_count": 17,
   "metadata": {
    "scrolled": false
   },
   "outputs": [
    {
     "data": {
      "text/plain": [
       "<matplotlib.axes._subplots.AxesSubplot at 0x1f384445f08>"
      ]
     },
     "execution_count": 17,
     "metadata": {},
     "output_type": "execute_result"
    },
    {
     "data": {
      "image/png": "[encoded data removed]",
      "text/plain": [
       "<Figure size 432x288 with 1 Axes>"
      ]
     },
     "metadata": {
      "needs_background": "light"
     },
     "output_type": "display_data"
    }
   ],
   "source": [
    "sns.boxplot(x=godseye['rr'])"
   ]
  },
  {
   "cell_type": "code",
   "execution_count": 18,
   "metadata": {},
   "outputs": [
    {
     "data": {
      "text/plain": [
       "<matplotlib.axes._subplots.AxesSubplot at 0x1f38449ac08>"
      ]
     },
     "execution_count": 18,
     "metadata": {},
     "output_type": "execute_result"
    },
    {
     "data": {
      "image/png": "[encoded data removed]",
      "text/plain": [
       "<Figure size 432x288 with 1 Axes>"
      ]
     },
     "metadata": {
      "needs_background": "light"
     },
     "output_type": "display_data"
    }
   ],
   "source": [
    "sns.distplot(godseye['rr'])"
   ]
  },
  {
   "cell_type": "code",
   "execution_count": 19,
   "metadata": {},
   "outputs": [
    {
     "data": {
      "text/html": [
       "<div>\n",
       "<style scoped>\n",
       "    .dataframe tbody tr th:only-of-type {\n",
       "        vertical-align: middle;\n",
       "    }\n",
       "\n",
       "    .dataframe tbody tr th {\n",
       "        vertical-align: top;\n",
       "    }\n",
       "\n",
       "    .dataframe thead th {\n",
       "        text-align: right;\n",
       "    }\n",
       "</style>\n",
       "<table border=\"1\" class=\"dataframe\">\n",
       "  <thead>\n",
       "    <tr style=\"text-align: right;\">\n",
       "      <th></th>\n",
       "      <th>T</th>\n",
       "      <th>gender</th>\n",
       "      <th>dyslexia</th>\n",
       "      <th>ll</th>\n",
       "      <th>rr</th>\n",
       "    </tr>\n",
       "  </thead>\n",
       "  <tbody>\n",
       "    <tr>\n",
       "      <td>2</td>\n",
       "      <td>40</td>\n",
       "      <td>male</td>\n",
       "      <td>no</td>\n",
       "      <td>6.553600e+04</td>\n",
       "      <td>6.553600e+04</td>\n",
       "    </tr>\n",
       "    <tr>\n",
       "      <td>3</td>\n",
       "      <td>60</td>\n",
       "      <td>male</td>\n",
       "      <td>no</td>\n",
       "      <td>9.268190e+04</td>\n",
       "      <td>1.000000e+08</td>\n",
       "    </tr>\n",
       "    <tr>\n",
       "      <td>4</td>\n",
       "      <td>80</td>\n",
       "      <td>male</td>\n",
       "      <td>no</td>\n",
       "      <td>9.268261e+04</td>\n",
       "      <td>6.550000e+13</td>\n",
       "    </tr>\n",
       "    <tr>\n",
       "      <td>5</td>\n",
       "      <td>100</td>\n",
       "      <td>male</td>\n",
       "      <td>no</td>\n",
       "      <td>9.268190e+04</td>\n",
       "      <td>6.553800e+04</td>\n",
       "    </tr>\n",
       "    <tr>\n",
       "      <td>6</td>\n",
       "      <td>120</td>\n",
       "      <td>male</td>\n",
       "      <td>no</td>\n",
       "      <td>1.465438e+05</td>\n",
       "      <td>1.000001e+08</td>\n",
       "    </tr>\n",
       "    <tr>\n",
       "      <td>...</td>\n",
       "      <td>...</td>\n",
       "      <td>...</td>\n",
       "      <td>...</td>\n",
       "      <td>...</td>\n",
       "      <td>...</td>\n",
       "    </tr>\n",
       "    <tr>\n",
       "      <td>40495</td>\n",
       "      <td>29900</td>\n",
       "      <td>male</td>\n",
       "      <td>no</td>\n",
       "      <td>2.785307e+06</td>\n",
       "      <td>2.655850e+06</td>\n",
       "    </tr>\n",
       "    <tr>\n",
       "      <td>40496</td>\n",
       "      <td>29920</td>\n",
       "      <td>male</td>\n",
       "      <td>no</td>\n",
       "      <td>2.850089e+06</td>\n",
       "      <td>2.785306e+06</td>\n",
       "    </tr>\n",
       "    <tr>\n",
       "      <td>40497</td>\n",
       "      <td>29940</td>\n",
       "      <td>male</td>\n",
       "      <td>no</td>\n",
       "      <td>2.591183e+06</td>\n",
       "      <td>2.461987e+06</td>\n",
       "    </tr>\n",
       "    <tr>\n",
       "      <td>40498</td>\n",
       "      <td>29960</td>\n",
       "      <td>male</td>\n",
       "      <td>no</td>\n",
       "      <td>2.397465e+06</td>\n",
       "      <td>2.397464e+06</td>\n",
       "    </tr>\n",
       "    <tr>\n",
       "      <td>40499</td>\n",
       "      <td>29980</td>\n",
       "      <td>male</td>\n",
       "      <td>no</td>\n",
       "      <td>2.397464e+06</td>\n",
       "      <td>2.397463e+06</td>\n",
       "    </tr>\n",
       "  </tbody>\n",
       "</table>\n",
       "<p>40498 rows × 5 columns</p>\n",
       "</div>"
      ],
      "text/plain": [
       "           T gender dyslexia            ll            rr\n",
       "2         40   male       no  6.553600e+04  6.553600e+04\n",
       "3         60   male       no  9.268190e+04  1.000000e+08\n",
       "4         80   male       no  9.268261e+04  6.550000e+13\n",
       "5        100   male       no  9.268190e+04  6.553800e+04\n",
       "6        120   male       no  1.465438e+05  1.000001e+08\n",
       "...      ...    ...      ...           ...           ...\n",
       "40495  29900   male       no  2.785307e+06  2.655850e+06\n",
       "40496  29920   male       no  2.850089e+06  2.785306e+06\n",
       "40497  29940   male       no  2.591183e+06  2.461987e+06\n",
       "40498  29960   male       no  2.397465e+06  2.397464e+06\n",
       "40499  29980   male       no  2.397464e+06  2.397463e+06\n",
       "\n",
       "[40498 rows x 5 columns]"
      ]
     },
     "execution_count": 19,
     "metadata": {},
     "output_type": "execute_result"
    }
   ],
   "source": [
    "godseye"
   ]
  },
  {
   "cell_type": "code",
   "execution_count": 20,
   "metadata": {},
   "outputs": [],
   "source": [
    "def outliersDetector(contact_df, columnName):\n",
    "    Q1 = contact_df[columnName].quantile(0.25)\n",
    "    Q3 = contact_df[columnName].quantile(0.75)\n",
    "\n",
    "\n",
    "    IQR = Q3 - Q1\n",
    "\n",
    "    lower_outlier_bound = Q1 - 1.5*IQR\n",
    "    upper_outlier_bound = Q3 + 1.5*IQR\n",
    "\n",
    "    print(\"Q1\", Q1)\n",
    "    print(\"Q3\", Q3)\n",
    "\n",
    "    print(\"IQR\", IQR)\n",
    "\n",
    "    print(\"lower_outlier_bound\", lower_outlier_bound)\n",
    "    print(\"upper_outlier_bound\", upper_outlier_bound)\n",
    "    print()\n",
    "    print(\"outliers for eye variable are : \")\n",
    "    print(contact_df[(contact_df[columnName] < lower_outlier_bound) | (contact_df[columnName] > upper_outlier_bound)])\n",
    "\n",
    "    print(contact_df[(contact_df[columnName] < lower_outlier_bound) | (contact_df[columnName] > upper_outlier_bound)].index)\n",
    "    # dropping outliers\n",
    "    contact_df.drop(contact_df[(contact_df[columnName]  < lower_outlier_bound) | (contact_df[columnName]  > upper_outlier_bound)].index, inplace=True)"
   ]
  },
  {
   "cell_type": "code",
   "execution_count": 21,
   "metadata": {},
   "outputs": [],
   "source": [
    "#lm=godseye['ll'].median()\n",
    "#rm=godseye['ll'].median()"
   ]
  },
  {
   "cell_type": "code",
   "execution_count": 22,
   "metadata": {
    "scrolled": false
   },
   "outputs": [
    {
     "name": "stdout",
     "output_type": "stream",
     "text": [
      "Q1 2694187.4266368803\n",
      "Q3 9968614.664630232\n",
      "IQR 7274427.237993352\n",
      "lower_outlier_bound -8217453.430353148\n",
      "upper_outlier_bound 20880255.52162026\n",
      "\n",
      "outliers for eye variable are : \n",
      "           T gender dyslexia            ll            rr\n",
      "11       220   male       no  6.550000e+13  2.702135e+05\n",
      "16       320   male       no  6.550000e+13  2.702162e+05\n",
      "20       400   male       no  6.550000e+13  2.000002e+08\n",
      "23       460   male       no  6.550000e+13  1.000005e+08\n",
      "24       480   male       no  1.000005e+08  1.000005e+08\n",
      "...      ...    ...      ...           ...           ...\n",
      "40251  25020   male       no  2.417097e+07  6.952251e+06\n",
      "40252  25040   male       no  2.404483e+07  2.399977e+07\n",
      "40253  25060   male       no  2.387381e+07  2.374790e+07\n",
      "40254  25080   male       no  2.247917e+07  2.318203e+07\n",
      "40465  29300   male       no  2.400000e+13  1.528712e+07\n",
      "\n",
      "[1920 rows x 5 columns]\n",
      "Int64Index([   11,    16,    20,    23,    24,    29,    30,    32,    34,\n",
      "               44,\n",
      "            ...\n",
      "            40246, 40247, 40248, 40249, 40250, 40251, 40252, 40253, 40254,\n",
      "            40465],\n",
      "           dtype='int64', length=1920)\n"
     ]
    }
   ],
   "source": [
    "outliersDetector(godseye,'ll')"
   ]
  },
  {
   "cell_type": "code",
   "execution_count": 23,
   "metadata": {},
   "outputs": [
    {
     "data": {
      "text/plain": [
       "T                 18580\n",
       "gender            male \n",
       "dyslexia            yes\n",
       "ll          2.98978e+06\n",
       "rr          2.87255e+06\n",
       "Name: 2429, dtype: object"
      ]
     },
     "execution_count": 23,
     "metadata": {},
     "output_type": "execute_result"
    }
   ],
   "source": [
    "godseye.iloc[2250]"
   ]
  },
  {
   "cell_type": "code",
   "execution_count": 24,
   "metadata": {},
   "outputs": [],
   "source": [
    "#godseye['ll']=godseye['ll'].fillna(lm)"
   ]
  },
  {
   "cell_type": "code",
   "execution_count": 25,
   "metadata": {},
   "outputs": [
    {
     "name": "stdout",
     "output_type": "stream",
     "text": [
      "Q1 2641891.2251539053\n",
      "Q3 9451219.306548627\n",
      "IQR 6809328.081394722\n",
      "lower_outlier_bound -7572100.896938178\n",
      "upper_outlier_bound 19665211.42864071\n",
      "\n",
      "outliers for eye variable are : \n",
      "           T gender dyslexia            ll            rr\n",
      "3         60   male       no  9.268190e+04  1.000000e+08\n",
      "4         80   male       no  9.268261e+04  6.550000e+13\n",
      "6        120   male       no  1.465438e+05  1.000001e+08\n",
      "7        140   male       no  1.310730e+05  1.000001e+08\n",
      "8        160   male       no  6.842165e+04  1.000002e+08\n",
      "...      ...    ...      ...           ...           ...\n",
      "40235  24700   male       no  2.004052e+07  2.016998e+07\n",
      "40236  24720   male       no  2.029946e+07  2.043915e+07\n",
      "40237  24740   male       no  2.057894e+07  2.070835e+07\n",
      "40255  25100   male       no  2.176844e+06  2.170215e+07\n",
      "40256  25120   male       no  2.087043e+07  2.024788e+07\n",
      "\n",
      "[778 rows x 5 columns]\n",
      "Int64Index([    3,     4,     6,     7,     8,     9,    10,    22,    25,\n",
      "               26,\n",
      "            ...\n",
      "            40230, 40231, 40232, 40233, 40234, 40235, 40236, 40237, 40255,\n",
      "            40256],\n",
      "           dtype='int64', length=778)\n"
     ]
    }
   ],
   "source": [
    "outliersDetector(godseye,'rr')"
   ]
  },
  {
   "cell_type": "code",
   "execution_count": 26,
   "metadata": {},
   "outputs": [
    {
     "name": "stdout",
     "output_type": "stream",
     "text": [
      "Q1 2596882.501855831\n",
      "Q3 9192895.800957642\n",
      "IQR 6596013.299101811\n",
      "lower_outlier_bound -7297137.446796885\n",
      "upper_outlier_bound 19086915.749610357\n",
      "\n",
      "outliers for eye variable are : \n",
      "           T gender dyslexia            ll            rr\n",
      "1400   28000   male       no  1.809528e+07  1.963474e+07\n",
      "1401   28020   male       no  1.855385e+07  1.950834e+07\n",
      "1402   28040   male       no  1.861936e+07  1.919261e+07\n",
      "5811   26220   male       no  1.834832e+06  1.928361e+07\n",
      "5834   26680   male       no  1.922842e+07  1.909528e+07\n",
      "...      ...    ...      ...           ...           ...\n",
      "40207  24140   male       no  2.041384e+06  1.940993e+07\n",
      "40208  24160   male       no  1.941226e+07  1.947775e+07\n",
      "40213  24260   male       no  1.951916e+07  1.959317e+07\n",
      "40257  25140   male       no  1.979437e+07  1.944597e+07\n",
      "40259  25180   male       no  1.919286e+07  1.915568e+07\n",
      "\n",
      "[170 rows x 5 columns]\n",
      "Int64Index([ 1400,  1401,  1402,  5811,  5834,  6000,  6001,  6005,  6006,\n",
      "             6033,\n",
      "            ...\n",
      "            38994, 39849, 39853, 40204, 40205, 40207, 40208, 40213, 40257,\n",
      "            40259],\n",
      "           dtype='int64', length=170)\n"
     ]
    }
   ],
   "source": [
    "outliersDetector(godseye,'rr')"
   ]
  },
  {
   "cell_type": "code",
   "execution_count": 27,
   "metadata": {},
   "outputs": [
    {
     "name": "stdout",
     "output_type": "stream",
     "text": [
      "Q1 2589938.2812156514\n",
      "Q3 9129981.735734476\n",
      "IQR 6540043.454518825\n",
      "lower_outlier_bound -7220126.900562586\n",
      "upper_outlier_bound 18940046.917512715\n",
      "\n",
      "outliers for eye variable are : \n",
      "           T gender dyslexia            ll            rr\n",
      "5812   26240   male       no  1.910247e+07  1.896980e+07\n",
      "5833   26660   male       no  1.954358e+07  5.813151e+06\n",
      "6007   30140   male       no  1.910244e+07  1.878171e+07\n",
      "6051   31020   male       no  1.910800e+07  1.859723e+07\n",
      "6069   31380   male       no  1.922825e+07  1.822726e+07\n",
      "...      ...    ...      ...           ...           ...\n",
      "40217  24340   male       no  2.074296e+07  3.711734e+06\n",
      "40224  24480   male       no  2.046016e+07  3.901260e+06\n",
      "40258  25160   male       no  1.930665e+07  1.802271e+07\n",
      "40260  25200   male       no  1.908244e+07  1.896096e+07\n",
      "40261  25220   male       no  1.895020e+07  1.873399e+07\n",
      "\n",
      "[124 rows x 5 columns]\n",
      "Int64Index([ 5812,  5833,  6007,  6051,  6069,  6088, 11933, 11934, 11935,\n",
      "            11936,\n",
      "            ...\n",
      "            38911, 39852, 39908, 39930, 40206, 40217, 40224, 40258, 40260,\n",
      "            40261],\n",
      "           dtype='int64', length=124)\n"
     ]
    }
   ],
   "source": [
    "outliersDetector(godseye,'ll')"
   ]
  },
  {
   "cell_type": "code",
   "execution_count": 28,
   "metadata": {
    "scrolled": false
   },
   "outputs": [
    {
     "data": {
      "text/html": [
       "<div>\n",
       "<style scoped>\n",
       "    .dataframe tbody tr th:only-of-type {\n",
       "        vertical-align: middle;\n",
       "    }\n",
       "\n",
       "    .dataframe tbody tr th {\n",
       "        vertical-align: top;\n",
       "    }\n",
       "\n",
       "    .dataframe thead th {\n",
       "        text-align: right;\n",
       "    }\n",
       "</style>\n",
       "<table border=\"1\" class=\"dataframe\">\n",
       "  <thead>\n",
       "    <tr style=\"text-align: right;\">\n",
       "      <th></th>\n",
       "      <th>T</th>\n",
       "      <th>gender</th>\n",
       "      <th>dyslexia</th>\n",
       "      <th>ll</th>\n",
       "      <th>rr</th>\n",
       "    </tr>\n",
       "  </thead>\n",
       "  <tbody>\n",
       "    <tr>\n",
       "      <td>2</td>\n",
       "      <td>40</td>\n",
       "      <td>male</td>\n",
       "      <td>no</td>\n",
       "      <td>6.553600e+04</td>\n",
       "      <td>6.553600e+04</td>\n",
       "    </tr>\n",
       "    <tr>\n",
       "      <td>5</td>\n",
       "      <td>100</td>\n",
       "      <td>male</td>\n",
       "      <td>no</td>\n",
       "      <td>9.268190e+04</td>\n",
       "      <td>6.553800e+04</td>\n",
       "    </tr>\n",
       "    <tr>\n",
       "      <td>12</td>\n",
       "      <td>240</td>\n",
       "      <td>male</td>\n",
       "      <td>no</td>\n",
       "      <td>6.842165e+04</td>\n",
       "      <td>1.465443e+05</td>\n",
       "    </tr>\n",
       "    <tr>\n",
       "      <td>13</td>\n",
       "      <td>260</td>\n",
       "      <td>male</td>\n",
       "      <td>no</td>\n",
       "      <td>1.853645e+05</td>\n",
       "      <td>2.072456e+05</td>\n",
       "    </tr>\n",
       "    <tr>\n",
       "      <td>14</td>\n",
       "      <td>280</td>\n",
       "      <td>male</td>\n",
       "      <td>no</td>\n",
       "      <td>1.325384e+05</td>\n",
       "      <td>2.072452e+05</td>\n",
       "    </tr>\n",
       "    <tr>\n",
       "      <td>...</td>\n",
       "      <td>...</td>\n",
       "      <td>...</td>\n",
       "      <td>...</td>\n",
       "      <td>...</td>\n",
       "      <td>...</td>\n",
       "    </tr>\n",
       "    <tr>\n",
       "      <td>40495</td>\n",
       "      <td>29900</td>\n",
       "      <td>male</td>\n",
       "      <td>no</td>\n",
       "      <td>2.785307e+06</td>\n",
       "      <td>2.655850e+06</td>\n",
       "    </tr>\n",
       "    <tr>\n",
       "      <td>40496</td>\n",
       "      <td>29920</td>\n",
       "      <td>male</td>\n",
       "      <td>no</td>\n",
       "      <td>2.850089e+06</td>\n",
       "      <td>2.785306e+06</td>\n",
       "    </tr>\n",
       "    <tr>\n",
       "      <td>40497</td>\n",
       "      <td>29940</td>\n",
       "      <td>male</td>\n",
       "      <td>no</td>\n",
       "      <td>2.591183e+06</td>\n",
       "      <td>2.461987e+06</td>\n",
       "    </tr>\n",
       "    <tr>\n",
       "      <td>40498</td>\n",
       "      <td>29960</td>\n",
       "      <td>male</td>\n",
       "      <td>no</td>\n",
       "      <td>2.397465e+06</td>\n",
       "      <td>2.397464e+06</td>\n",
       "    </tr>\n",
       "    <tr>\n",
       "      <td>40499</td>\n",
       "      <td>29980</td>\n",
       "      <td>male</td>\n",
       "      <td>no</td>\n",
       "      <td>2.397464e+06</td>\n",
       "      <td>2.397463e+06</td>\n",
       "    </tr>\n",
       "  </tbody>\n",
       "</table>\n",
       "<p>37506 rows × 5 columns</p>\n",
       "</div>"
      ],
      "text/plain": [
       "           T gender dyslexia            ll            rr\n",
       "2         40   male       no  6.553600e+04  6.553600e+04\n",
       "5        100   male       no  9.268190e+04  6.553800e+04\n",
       "12       240   male       no  6.842165e+04  1.465443e+05\n",
       "13       260   male       no  1.853645e+05  2.072456e+05\n",
       "14       280   male       no  1.325384e+05  2.072452e+05\n",
       "...      ...    ...      ...           ...           ...\n",
       "40495  29900   male       no  2.785307e+06  2.655850e+06\n",
       "40496  29920   male       no  2.850089e+06  2.785306e+06\n",
       "40497  29940   male       no  2.591183e+06  2.461987e+06\n",
       "40498  29960   male       no  2.397465e+06  2.397464e+06\n",
       "40499  29980   male       no  2.397464e+06  2.397463e+06\n",
       "\n",
       "[37506 rows x 5 columns]"
      ]
     },
     "execution_count": 28,
     "metadata": {},
     "output_type": "execute_result"
    }
   ],
   "source": [
    "godseye"
   ]
  },
  {
   "cell_type": "code",
   "execution_count": 29,
   "metadata": {
    "scrolled": false
   },
   "outputs": [],
   "source": [
    "#outliersDetector(godseye,'ll')"
   ]
  },
  {
   "cell_type": "code",
   "execution_count": 30,
   "metadata": {},
   "outputs": [],
   "source": [
    "#outliersDetector(godseye,'rr')"
   ]
  },
  {
   "cell_type": "code",
   "execution_count": 31,
   "metadata": {},
   "outputs": [
    {
     "data": {
      "text/plain": [
       "<matplotlib.axes._subplots.AxesSubplot at 0x1f384454188>"
      ]
     },
     "execution_count": 31,
     "metadata": {},
     "output_type": "execute_result"
    },
    {
     "data": {
      "image/png": "[encoded data removed]",
      "text/plain": [
       "<Figure size 432x288 with 1 Axes>"
      ]
     },
     "metadata": {
      "needs_background": "light"
     },
     "output_type": "display_data"
    }
   ],
   "source": [
    "sns.boxplot(x=godseye['ll'])"
   ]
  },
  {
   "cell_type": "code",
   "execution_count": 32,
   "metadata": {},
   "outputs": [
    {
     "data": {
      "text/plain": [
       "<matplotlib.axes._subplots.AxesSubplot at 0x1f384454608>"
      ]
     },
     "execution_count": 32,
     "metadata": {},
     "output_type": "execute_result"
    },
    {
     "data": {
      "image/png": "[encoded data removed]",
      "text/plain": [
       "<Figure size 432x288 with 1 Axes>"
      ]
     },
     "metadata": {
      "needs_background": "light"
     },
     "output_type": "display_data"
    }
   ],
   "source": [
    "sns.boxplot(x=godseye['rr'])"
   ]
  },
  {
   "cell_type": "code",
   "execution_count": 33,
   "metadata": {},
   "outputs": [
    {
     "data": {
      "text/html": [
       "<div>\n",
       "<style scoped>\n",
       "    .dataframe tbody tr th:only-of-type {\n",
       "        vertical-align: middle;\n",
       "    }\n",
       "\n",
       "    .dataframe tbody tr th {\n",
       "        vertical-align: top;\n",
       "    }\n",
       "\n",
       "    .dataframe thead th {\n",
       "        text-align: right;\n",
       "    }\n",
       "</style>\n",
       "<table border=\"1\" class=\"dataframe\">\n",
       "  <thead>\n",
       "    <tr style=\"text-align: right;\">\n",
       "      <th></th>\n",
       "      <th>T</th>\n",
       "      <th>gender</th>\n",
       "      <th>dyslexia</th>\n",
       "      <th>ll</th>\n",
       "      <th>rr</th>\n",
       "    </tr>\n",
       "  </thead>\n",
       "  <tbody>\n",
       "    <tr>\n",
       "      <td>2</td>\n",
       "      <td>40</td>\n",
       "      <td>male</td>\n",
       "      <td>no</td>\n",
       "      <td>6.553600e+04</td>\n",
       "      <td>6.553600e+04</td>\n",
       "    </tr>\n",
       "    <tr>\n",
       "      <td>5</td>\n",
       "      <td>100</td>\n",
       "      <td>male</td>\n",
       "      <td>no</td>\n",
       "      <td>9.268190e+04</td>\n",
       "      <td>6.553800e+04</td>\n",
       "    </tr>\n",
       "    <tr>\n",
       "      <td>12</td>\n",
       "      <td>240</td>\n",
       "      <td>male</td>\n",
       "      <td>no</td>\n",
       "      <td>6.842165e+04</td>\n",
       "      <td>1.465443e+05</td>\n",
       "    </tr>\n",
       "    <tr>\n",
       "      <td>13</td>\n",
       "      <td>260</td>\n",
       "      <td>male</td>\n",
       "      <td>no</td>\n",
       "      <td>1.853645e+05</td>\n",
       "      <td>2.072456e+05</td>\n",
       "    </tr>\n",
       "    <tr>\n",
       "      <td>14</td>\n",
       "      <td>280</td>\n",
       "      <td>male</td>\n",
       "      <td>no</td>\n",
       "      <td>1.325384e+05</td>\n",
       "      <td>2.072452e+05</td>\n",
       "    </tr>\n",
       "    <tr>\n",
       "      <td>...</td>\n",
       "      <td>...</td>\n",
       "      <td>...</td>\n",
       "      <td>...</td>\n",
       "      <td>...</td>\n",
       "      <td>...</td>\n",
       "    </tr>\n",
       "    <tr>\n",
       "      <td>40495</td>\n",
       "      <td>29900</td>\n",
       "      <td>male</td>\n",
       "      <td>no</td>\n",
       "      <td>2.785307e+06</td>\n",
       "      <td>2.655850e+06</td>\n",
       "    </tr>\n",
       "    <tr>\n",
       "      <td>40496</td>\n",
       "      <td>29920</td>\n",
       "      <td>male</td>\n",
       "      <td>no</td>\n",
       "      <td>2.850089e+06</td>\n",
       "      <td>2.785306e+06</td>\n",
       "    </tr>\n",
       "    <tr>\n",
       "      <td>40497</td>\n",
       "      <td>29940</td>\n",
       "      <td>male</td>\n",
       "      <td>no</td>\n",
       "      <td>2.591183e+06</td>\n",
       "      <td>2.461987e+06</td>\n",
       "    </tr>\n",
       "    <tr>\n",
       "      <td>40498</td>\n",
       "      <td>29960</td>\n",
       "      <td>male</td>\n",
       "      <td>no</td>\n",
       "      <td>2.397465e+06</td>\n",
       "      <td>2.397464e+06</td>\n",
       "    </tr>\n",
       "    <tr>\n",
       "      <td>40499</td>\n",
       "      <td>29980</td>\n",
       "      <td>male</td>\n",
       "      <td>no</td>\n",
       "      <td>2.397464e+06</td>\n",
       "      <td>2.397463e+06</td>\n",
       "    </tr>\n",
       "  </tbody>\n",
       "</table>\n",
       "<p>37506 rows × 5 columns</p>\n",
       "</div>"
      ],
      "text/plain": [
       "           T gender dyslexia            ll            rr\n",
       "2         40   male       no  6.553600e+04  6.553600e+04\n",
       "5        100   male       no  9.268190e+04  6.553800e+04\n",
       "12       240   male       no  6.842165e+04  1.465443e+05\n",
       "13       260   male       no  1.853645e+05  2.072456e+05\n",
       "14       280   male       no  1.325384e+05  2.072452e+05\n",
       "...      ...    ...      ...           ...           ...\n",
       "40495  29900   male       no  2.785307e+06  2.655850e+06\n",
       "40496  29920   male       no  2.850089e+06  2.785306e+06\n",
       "40497  29940   male       no  2.591183e+06  2.461987e+06\n",
       "40498  29960   male       no  2.397465e+06  2.397464e+06\n",
       "40499  29980   male       no  2.397464e+06  2.397463e+06\n",
       "\n",
       "[37506 rows x 5 columns]"
      ]
     },
     "execution_count": 33,
     "metadata": {},
     "output_type": "execute_result"
    }
   ],
   "source": [
    "godseye"
   ]
  },
  {
   "cell_type": "code",
   "execution_count": 34,
   "metadata": {},
   "outputs": [
    {
     "data": {
      "text/plain": [
       "<matplotlib.axes._subplots.AxesSubplot at 0x1f3848cc348>"
      ]
     },
     "execution_count": 34,
     "metadata": {},
     "output_type": "execute_result"
    },
    {
     "data": {
      "image/png": "[encoded data removed]",
      "text/plain": [
       "<Figure size 432x288 with 1 Axes>"
      ]
     },
     "metadata": {
      "needs_background": "light"
     },
     "output_type": "display_data"
    }
   ],
   "source": [
    "sns.distplot(godseye['ll'])"
   ]
  },
  {
   "cell_type": "code",
   "execution_count": 35,
   "metadata": {
    "scrolled": true
   },
   "outputs": [
    {
     "data": {
      "text/plain": [
       "<matplotlib.axes._subplots.AxesSubplot at 0x1f384bec588>"
      ]
     },
     "execution_count": 35,
     "metadata": {},
     "output_type": "execute_result"
    },
    {
     "data": {
      "image/png": "[encoded data removed]",
      "text/plain": [
       "<Figure size 432x288 with 1 Axes>"
      ]
     },
     "metadata": {
      "needs_background": "light"
     },
     "output_type": "display_data"
    }
   ],
   "source": [
    "sns.distplot(godseye['rr'])"
   ]
  },
  {
   "cell_type": "code",
   "execution_count": 36,
   "metadata": {},
   "outputs": [
    {
     "data": {
      "text/plain": [
       "(37506, 5)"
      ]
     },
     "execution_count": 36,
     "metadata": {},
     "output_type": "execute_result"
    }
   ],
   "source": [
    "godseye.shape"
   ]
  },
  {
   "cell_type": "code",
   "execution_count": 37,
   "metadata": {},
   "outputs": [],
   "source": [
    "def preprocessor(df):\n",
    "    res_df = df.copy()\n",
    "    le = preprocessing.LabelEncoder()\n",
    "   # res_df['T'] = le.fit_transform(res_df['T'])\n",
    "  #  res_df['ll'] = le.fit_transform(res_df['ll'])\n",
    "  #  res_df['rr'] = le.fit_transform(res_df['rr'])\n",
    "    res_df['gender'] = le.fit_transform(res_df['gender'])\n",
    "    res_df['dyslexia'] = le.fit_transform(res_df['dyslexia'])\n",
    "    return res_df"
   ]
  },
  {
   "cell_type": "code",
   "execution_count": 38,
   "metadata": {},
   "outputs": [],
   "source": [
    "encoded_df = preprocessor(godseye)\n",
    "#train, test = train_test_split(godseye,test_size=0.2)\n",
    "x=encoded_df[['T', 'll', 'rr']]\n",
    "#x=preprocessing.normalize(x)"
   ]
  },
  {
   "cell_type": "code",
   "execution_count": 39,
   "metadata": {},
   "outputs": [],
   "source": [
    "y=encoded_df[['dyslexia']]"
   ]
  },
  {
   "cell_type": "code",
   "execution_count": 40,
   "metadata": {},
   "outputs": [],
   "source": [
    "#x=preprocessing.normalize(x)"
   ]
  },
  {
   "cell_type": "code",
   "execution_count": 41,
   "metadata": {},
   "outputs": [
    {
     "data": {
      "text/html": [
       "<div>\n",
       "<style scoped>\n",
       "    .dataframe tbody tr th:only-of-type {\n",
       "        vertical-align: middle;\n",
       "    }\n",
       "\n",
       "    .dataframe tbody tr th {\n",
       "        vertical-align: top;\n",
       "    }\n",
       "\n",
       "    .dataframe thead th {\n",
       "        text-align: right;\n",
       "    }\n",
       "</style>\n",
       "<table border=\"1\" class=\"dataframe\">\n",
       "  <thead>\n",
       "    <tr style=\"text-align: right;\">\n",
       "      <th></th>\n",
       "      <th>T</th>\n",
       "      <th>gender</th>\n",
       "      <th>dyslexia</th>\n",
       "      <th>ll</th>\n",
       "      <th>rr</th>\n",
       "    </tr>\n",
       "  </thead>\n",
       "  <tbody>\n",
       "    <tr>\n",
       "      <td>2</td>\n",
       "      <td>40</td>\n",
       "      <td>1</td>\n",
       "      <td>0</td>\n",
       "      <td>6.553600e+04</td>\n",
       "      <td>6.553600e+04</td>\n",
       "    </tr>\n",
       "    <tr>\n",
       "      <td>5</td>\n",
       "      <td>100</td>\n",
       "      <td>1</td>\n",
       "      <td>0</td>\n",
       "      <td>9.268190e+04</td>\n",
       "      <td>6.553800e+04</td>\n",
       "    </tr>\n",
       "    <tr>\n",
       "      <td>12</td>\n",
       "      <td>240</td>\n",
       "      <td>1</td>\n",
       "      <td>0</td>\n",
       "      <td>6.842165e+04</td>\n",
       "      <td>1.465443e+05</td>\n",
       "    </tr>\n",
       "    <tr>\n",
       "      <td>13</td>\n",
       "      <td>260</td>\n",
       "      <td>1</td>\n",
       "      <td>0</td>\n",
       "      <td>1.853645e+05</td>\n",
       "      <td>2.072456e+05</td>\n",
       "    </tr>\n",
       "    <tr>\n",
       "      <td>14</td>\n",
       "      <td>280</td>\n",
       "      <td>1</td>\n",
       "      <td>0</td>\n",
       "      <td>1.325384e+05</td>\n",
       "      <td>2.072452e+05</td>\n",
       "    </tr>\n",
       "    <tr>\n",
       "      <td>...</td>\n",
       "      <td>...</td>\n",
       "      <td>...</td>\n",
       "      <td>...</td>\n",
       "      <td>...</td>\n",
       "      <td>...</td>\n",
       "    </tr>\n",
       "    <tr>\n",
       "      <td>40495</td>\n",
       "      <td>29900</td>\n",
       "      <td>1</td>\n",
       "      <td>0</td>\n",
       "      <td>2.785307e+06</td>\n",
       "      <td>2.655850e+06</td>\n",
       "    </tr>\n",
       "    <tr>\n",
       "      <td>40496</td>\n",
       "      <td>29920</td>\n",
       "      <td>1</td>\n",
       "      <td>0</td>\n",
       "      <td>2.850089e+06</td>\n",
       "      <td>2.785306e+06</td>\n",
       "    </tr>\n",
       "    <tr>\n",
       "      <td>40497</td>\n",
       "      <td>29940</td>\n",
       "      <td>1</td>\n",
       "      <td>0</td>\n",
       "      <td>2.591183e+06</td>\n",
       "      <td>2.461987e+06</td>\n",
       "    </tr>\n",
       "    <tr>\n",
       "      <td>40498</td>\n",
       "      <td>29960</td>\n",
       "      <td>1</td>\n",
       "      <td>0</td>\n",
       "      <td>2.397465e+06</td>\n",
       "      <td>2.397464e+06</td>\n",
       "    </tr>\n",
       "    <tr>\n",
       "      <td>40499</td>\n",
       "      <td>29980</td>\n",
       "      <td>1</td>\n",
       "      <td>0</td>\n",
       "      <td>2.397464e+06</td>\n",
       "      <td>2.397463e+06</td>\n",
       "    </tr>\n",
       "  </tbody>\n",
       "</table>\n",
       "<p>37506 rows × 5 columns</p>\n",
       "</div>"
      ],
      "text/plain": [
       "           T  gender  dyslexia            ll            rr\n",
       "2         40       1         0  6.553600e+04  6.553600e+04\n",
       "5        100       1         0  9.268190e+04  6.553800e+04\n",
       "12       240       1         0  6.842165e+04  1.465443e+05\n",
       "13       260       1         0  1.853645e+05  2.072456e+05\n",
       "14       280       1         0  1.325384e+05  2.072452e+05\n",
       "...      ...     ...       ...           ...           ...\n",
       "40495  29900       1         0  2.785307e+06  2.655850e+06\n",
       "40496  29920       1         0  2.850089e+06  2.785306e+06\n",
       "40497  29940       1         0  2.591183e+06  2.461987e+06\n",
       "40498  29960       1         0  2.397465e+06  2.397464e+06\n",
       "40499  29980       1         0  2.397464e+06  2.397463e+06\n",
       "\n",
       "[37506 rows x 5 columns]"
      ]
     },
     "execution_count": 41,
     "metadata": {},
     "output_type": "execute_result"
    }
   ],
   "source": [
    "#encoded_df[['T', 'll', 'rr']]=x\n",
    "encoded_df"
   ]
  },
  {
   "cell_type": "code",
   "execution_count": 42,
   "metadata": {},
   "outputs": [],
   "source": [
    "x_train, x_test, y_train, y_test = train_test_split(x,y,test_size=0.2)\n",
    "sc=StandardScaler()\n",
    "x_train=sc.fit_transform(x_train)\n",
    "x_test=sc.transform(x_test)"
   ]
  },
  {
   "cell_type": "code",
   "execution_count": 43,
   "metadata": {},
   "outputs": [],
   "source": [
    "#god=RandomForestRegressor(n_estimators=20, random_state=0)\n",
    "#god=god.fit(x_train,y_train)\n",
    "#y_pred=god.predict(x_test)"
   ]
  },
  {
   "cell_type": "code",
   "execution_count": 44,
   "metadata": {},
   "outputs": [],
   "source": [
    "#metrics.accuracy_score(y_test, ypred)"
   ]
  },
  {
   "cell_type": "code",
   "execution_count": 45,
   "metadata": {},
   "outputs": [],
   "source": [
    "#god=DecisionTreeClassifier()\n",
    "#god=god.fit(x_train,y_train)\n",
    "#ypred=god.predict(x_test)"
   ]
  },
  {
   "cell_type": "code",
   "execution_count": 46,
   "metadata": {},
   "outputs": [],
   "source": [
    "#metrics.accuracy_score(y_test, ypred)"
   ]
  },
  {
   "cell_type": "code",
   "execution_count": 47,
   "metadata": {},
   "outputs": [],
   "source": [
    "#confusion_matrix(y_test,ypred)"
   ]
  },
  {
   "cell_type": "code",
   "execution_count": 48,
   "metadata": {},
   "outputs": [],
   "source": [
    "god=RandomForestRegressor(n_estimators=50, random_state=0,warm_start=True)\n",
    "god=god.fit(x_train,y_train.values.ravel())\n",
    "y_pred=god.predict(x_test)"
   ]
  },
  {
   "cell_type": "code",
   "execution_count": 49,
   "metadata": {},
   "outputs": [
    {
     "data": {
      "text/plain": [
       "0.8473740335910424"
      ]
     },
     "execution_count": 49,
     "metadata": {},
     "output_type": "execute_result"
    }
   ],
   "source": [
    "metrics.accuracy_score(y_test, y_pred.round())"
   ]
  },
  {
   "cell_type": "code",
   "execution_count": 51,
   "metadata": {},
   "outputs": [
    {
     "data": {
      "text/plain": [
       "array([[2473,  577],\n",
       "       [ 568, 3884]], dtype=int64)"
      ]
     },
     "execution_count": 51,
     "metadata": {},
     "output_type": "execute_result"
    }
   ],
   "source": [
    "confusion_matrix(y_test,y_pred.round())"
   ]
  },
  {
   "cell_type": "code",
   "execution_count": 52,
   "metadata": {},
   "outputs": [],
   "source": [
    "tn,fp,fn,tp=confusion_matrix(y_test,y_pred.round()).ravel()"
   ]
  },
  {
   "cell_type": "code",
   "execution_count": 53,
   "metadata": {},
   "outputs": [
    {
     "data": {
      "text/plain": [
       "84.73740335910423"
      ]
     },
     "execution_count": 53,
     "metadata": {},
     "output_type": "execute_result"
    }
   ],
   "source": [
    "acc=(tn+tp)*100/(tp+tn+fp+fn)\n",
    "acc"
   ]
  },
  {
   "cell_type": "code",
   "execution_count": 54,
   "metadata": {},
   "outputs": [
    {
     "data": {
      "text/plain": [
       "87.06568034073078"
      ]
     },
     "execution_count": 54,
     "metadata": {},
     "output_type": "execute_result"
    }
   ],
   "source": [
    "pre=tp*100/(tp+fp)\n",
    "pre"
   ]
  },
  {
   "cell_type": "code",
   "execution_count": 55,
   "metadata": {},
   "outputs": [
    {
     "data": {
      "text/plain": [
       "87.24168912848158"
      ]
     },
     "execution_count": 55,
     "metadata": {},
     "output_type": "execute_result"
    }
   ],
   "source": [
    "re=tp*100/(tp+fn)\n",
    "re"
   ]
  },
  {
   "cell_type": "code",
   "execution_count": 56,
   "metadata": {},
   "outputs": [],
   "source": [
    "f1=(2*pre*re)/(pre+re)"
   ]
  },
  {
   "cell_type": "code",
   "execution_count": 57,
   "metadata": {},
   "outputs": [
    {
     "data": {
      "text/plain": [
       "87.15359587119939"
      ]
     },
     "execution_count": 57,
     "metadata": {},
     "output_type": "execute_result"
    }
   ],
   "source": [
    "f1"
   ]
  },
  {
   "cell_type": "code",
   "execution_count": null,
   "metadata": {},
   "outputs": [],
   "source": []
  },
  {
   "cell_type": "code",
   "execution_count": null,
   "metadata": {},
   "outputs": [],
   "source": []
  },
  {
   "cell_type": "code",
   "execution_count": null,
   "metadata": {},
   "outputs": [],
   "source": []
  }
 ],
 "metadata": {
  "kernelspec": {
   "display_name": "Python 3",
   "language": "python",
   "name": "python3"
  },
  "language_info": {
   "codemirror_mode": {
    "name": "ipython",
    "version": 3
   },
   "file_extension": ".py",
   "mimetype": "text/x-python",
   "name": "python",
   "nbconvert_exporter": "python",
   "pygments_lexer": "ipython3",
   "version": "3.7.4"
  }
 },
 "nbformat": 4,
 "nbformat_minor": 2
}
